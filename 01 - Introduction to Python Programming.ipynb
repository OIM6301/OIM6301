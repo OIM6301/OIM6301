{
 "cells": [
  {
   "cell_type": "markdown",
   "metadata": {},
   "source": [
    "# Introduction to Python Programming\n",
    "\n",
    "**Problem solving** is one of the most important skills that everyone should learn and practice. Learning to program (especially using Python) is an excellent opportunity to develop and practice problem-solving skills.\n",
    "\n",
    "## What is a program?\n",
    "\n",
    "A **program** is a sequence of instructions that specifies how to perform a computation. The computation might be something mathematical, such as solving a system of equations or finding the roots of a polynomial. It can also be symbolic, such as searching and replacing text in a document, or graphical, like processing an image or playing a video.\n",
    "\n",
    "**Question**: What are the basic elements of a program?\n",
    "\n",
    "## Why Python?\n",
    "\n",
    "- Python is a general-purpose, high-level programming language designed by Guido van Rossum\n",
    "- Python is easy to learn with clear, readable syntax\n",
    "- Extensive ecosystem: thousands of libraries for web, data science, automation, AI, and more\n",
    "- Large, supportive community with excellent documentation\n",
    "- Used by companies like Google, Netflix, NASA, and many others\n",
    "\n",
    "## Python Installation\n",
    "\n",
    "### Option 1: Python.org (Traditional)\n",
    "Go to https://www.python.org/downloads/ and download Python 3.13. During installation, **check 'Add Python to PATH'**.\n",
    "\n",
    "### Option 2: Modern Tools (Recommended)\n",
    "Modern Python development often uses:\n",
    "- **VS Code** with Python extension (manages Python automatically)\n",
    "- **uv** - Fast Python package installer: https://github.com/astral-sh/uv\n",
    "- **Anaconda** - Good for data science: https://www.anaconda.com/\n",
    "\n",
    "### Verify Installation\n",
    "Open a terminal (Command Prompt on Windows, Terminal on Mac/Linux) and type:\n",
    "```\n",
    "python --version\n",
    "```\n",
    "You should see `Python 3.13.x`.\n",
    "\n",
    "\n",
    "### Working with Python: Three Approaches\n",
    "\n",
    "**1. Interactive Interpreter (REPL)**\n",
    "Type `python` in your terminal to start the **REPL** (Read-Eval-Print Loop). The interpreter reads your code, evaluates it, prints the result, and loops back. Great for quick experiments!\n",
    "\n",
    "**2. Script Files (.py)**\n",
    "Write Python code in `.py` files and run them with `python filename.py`. This is how you build real programs.\n",
    "\n",
    "**3. Jupyter Notebooks (What you're using now!)**\n",
    "Notebooks combine code, output, and documentation in one place. Perfect for learning, data analysis, and sharing results.\n",
    "\n",
    "### Using VS Code\n",
    "\n",
    "We recommend **Visual Studio Code** as your Python editor: https://code.visualstudio.com/\n",
    "\n",
    "Why VS Code?\n",
    "- **Syntax highlighting** makes code easier to read\n",
    "- **IntelliSense** provides code completion\n",
    "- **Integrated terminal** for running code\n",
    "- **Python extension** for debugging and testing\n",
    "- **Built-in Git** for version control\n",
    "- **Jupyter support** for notebooks\n",
    "\n",
    "Install the Python extension: https://marketplace.visualstudio.com/items?itemName=ms-python.python\n",
    "\n",
    "\n",
    "## Your First Python Program\n",
    "\n",
    "Before starting this journey, remember:\n",
    "\n",
    "**DO NOT copy/paste code. Type it out yourself!**\n",
    "\n",
    "Typing helps you learn syntax, catch errors, and build muscle memory.\n",
    "\n",
    "Traditionally, the first program in any language is \"Hello, World!\" - a simple program that displays text. In Python:"
   ]
  },
  {
   "cell_type": "code",
   "execution_count": 1,
   "metadata": {},
   "outputs": [
    {
     "name": "stdout",
     "output_type": "stream",
     "text": [
      "Hello, World!\n"
     ]
    }
   ],
   "source": [
    "print('Hello, World!')"
   ]
  },
  {
   "cell_type": "code",
   "execution_count": 2,
   "metadata": {},
   "outputs": [
    {
     "name": "stdout",
     "output_type": "stream",
     "text": [
      "6\n"
     ]
    }
   ],
   "source": [
    "print(1 + 2 + 3)"
   ]
  },
  {
   "cell_type": "markdown",
   "metadata": {},
   "source": [
    "### A new markdown demo section"
   ]
  },
  {
   "cell_type": "markdown",
   "metadata": {},
   "source": [
    "Congratulations! You just wrote your first Python program!\n",
    "\n",
    "This is an example of a **print statement**. The `print()` function displays output on the screen (it doesn't actually print on paper).\n",
    "\n",
    "**Key elements:**\n",
    "- `print` is a **function** - a reusable piece of code that performs an action\n",
    "- The **parentheses** `()` are required to call (execute) the function\n",
    "- The **quotation marks** `''` or `\"\"` define a **string** (text data)\n",
    "\n",
    "Let's try something different - basic arithmetic:"
   ]
  },
  {
   "cell_type": "code",
   "execution_count": null,
   "metadata": {},
   "outputs": [],
   "source": [
    "1 + 1  # In Jupyter/REPL, the result displays automatically"
   ]
  },
  {
   "cell_type": "code",
   "execution_count": null,
   "metadata": {},
   "outputs": [],
   "source": [
    "# exit() - This would close the Python interpreter\n",
    "# We don't need it in Jupyter notebooks!"
   ]
  },
  {
   "cell_type": "markdown",
   "metadata": {},
   "source": [
    "## Working with Script Files\n",
    "\n",
    "In Jupyter notebooks, you can run code immediately in cells. But for larger programs, you'll create **script files** with the `.py` extension.\n",
    "\n",
    "### Creating a Python Script\n",
    "\n",
    "**Naming convention**: Module names (filenames) should be short, lowercase, and can include underscores (e.g., `hello.py`, `my_calculator.py`).\n",
    "\n",
    "**Example**: Create a file called `hello.py` with this code (use your own name):"
   ]
  },
  {
   "cell_type": "code",
   "execution_count": null,
   "metadata": {},
   "outputs": [],
   "source": [
    "print('Hello, Zhi')"
   ]
  },
  {
   "cell_type": "markdown",
   "metadata": {},
   "source": [
    "Run the script from your terminal:\n",
    "\n",
    "**Windows**: `python hello.py`  \n",
    "**Mac/Linux**: `python3 hello.py` (or just `python` if configured)\n",
    "\n",
    "You should see: `Hello, Zhi`\n",
    "\n",
    "Now, remove or comment out the existing code and add the following code to `hello.py` to perform arithmetic:"
   ]
  },
  {
   "cell_type": "code",
   "execution_count": 2,
   "metadata": {},
   "outputs": [
    {
     "data": {
      "text/plain": [
       "113"
      ]
     },
     "execution_count": 2,
     "metadata": {},
     "output_type": "execute_result"
    }
   ],
   "source": [
    "39 + 41 + 33"
   ]
  },
  {
   "cell_type": "markdown",
   "metadata": {},
   "source": [
    "**Question**: What happens when you run `python hello.py`?\n",
    "\n",
    "**Answer**: Nothing displays! \n",
    "\n",
    "In script files, expressions are evaluated but not automatically printed. You need to explicitly use `print()` to see output."
   ]
  },
  {
   "cell_type": "markdown",
   "metadata": {},
   "source": [
    "Fix it by wrapping the expression in `print()`:"
   ]
  },
  {
   "cell_type": "code",
   "execution_count": null,
   "metadata": {},
   "outputs": [],
   "source": [
    "print(39 + 41 + 33)"
   ]
  },
  {
   "cell_type": "markdown",
   "metadata": {},
   "source": [
    "## Arithmetic Operators\n",
    "\n",
    "Python can be used as a calculator. Try these basic operators:"
   ]
  },
  {
   "cell_type": "code",
   "execution_count": 5,
   "metadata": {},
   "outputs": [
    {
     "data": {
      "text/plain": [
       "35"
      ]
     },
     "execution_count": 5,
     "metadata": {},
     "output_type": "execute_result"
    }
   ],
   "source": [
    "2025 - 1990  # Subtraction"
   ]
  },
  {
   "cell_type": "code",
   "execution_count": 6,
   "metadata": {},
   "outputs": [
    {
     "data": {
      "text/plain": [
       "48.0"
      ]
     },
     "execution_count": 6,
     "metadata": {},
     "output_type": "execute_result"
    }
   ],
   "source": [
    "15 * 3.2  # Multiplication"
   ]
  },
  {
   "cell_type": "code",
   "execution_count": 11,
   "metadata": {},
   "outputs": [
    {
     "data": {
      "text/plain": [
       "19950631168807583848837421626835850838234968318861924548520089498529438830221946631919961684036194597899331129423209124271556491349413781117593785932096323957855730046793794526765246551266059895520550086918193311542508608460618104685509074866089624888090489894838009253941633257850621568309473902556912388065225096643874441046759871626985453222868538161694315775629640762836880760732228535091641476183956381458969463899410840960536267821064621427333394036525565649530603142680234969400335934316651459297773279665775606172582031407994198179607378245683762280037302885487251900834464581454650557929601414833921615734588139257095379769119277800826957735674444123062018757836325502728323789270710373802866393031428133241401624195671690574061419654342324638801248856147305207431992259611796250130992860241708340807605932320161268492288496255841312844061536738951487114256315111089745514203313820202931640957596464756010405845841566072044962867016515061920631004186422275908670900574606417856951911456055068251250406007519842261898059237118054444788072906395242548339221982707404473162376760846613033778706039803413197133493654622700563169937455508241780972810983291314403571877524768509857276937926433221599399876886660808368837838027643282775172273657572744784112294389733810861607423253291974813120197604178281965697475898164531258434135959862784130128185406283476649088690521047580882615823961985770122407044330583075869039319604603404973156583208672105913300903752823415539745394397715257455290510212310947321610753474825740775273986348298498340756937955646638621874569499279016572103701364433135817214311791398222983845847334440270964182851005072927748364550578634501100852987812389473928699540834346158807043959118985815145779177143619698728131459483783202081474982171858011389071228250905826817436220577475921417653715687725614904582904992461028630081535583308130101987675856234343538955409175623400844887526162643568648833519463720377293240094456246923254350400678027273837755376406726898636241037491410966718557050759098100246789880178271925953381282421954028302759408448955014676668389697996886241636313376393903373455801407636741877711055384225739499110186468219696581651485130494222369947714763069155468217682876200362777257723781365331611196811280792669481887201298643660768551639860534602297871557517947385246369446923087894265948217008051120322365496288169035739121368338393591756418733850510970271613915439590991598154654417336311656936031122249937969999226781732358023111862644575299135758175008199839236284615249881088960232244362173771618086357015468484058622329792853875623486556440536962622018963571028812361567512543338303270029097668650568557157505516727518899194129711337690149916181315171544007728650573189557450920330185304847113818315407324053319038462084036421763703911550639789000742853672196280903477974533320468368795868580237952218629120080742819551317948157624448298518461509704888027274721574688131594750409732115080498190455803416826949787141316063210686391511681774304792596709376"
      ]
     },
     "execution_count": 11,
     "metadata": {},
     "output_type": "execute_result"
    }
   ],
   "source": [
    "2 ** 10000  # 2 to the power of 6"
   ]
  },
  {
   "cell_type": "markdown",
   "metadata": {},
   "source": [
    "The `/` operator always returns a float (5.0) even when dividing evenly:"
   ]
  },
  {
   "cell_type": "code",
   "execution_count": 12,
   "metadata": {},
   "outputs": [
    {
     "data": {
      "text/plain": [
       "5.0"
      ]
     },
     "execution_count": 12,
     "metadata": {},
     "output_type": "execute_result"
    }
   ],
   "source": [
    "15 / 3  # Returns 5.0, not 5"
   ]
  },
  {
   "cell_type": "markdown",
   "metadata": {},
   "source": [
    "### ***Exercise 01*** \n",
    "\n",
    "Experiment and learn from mistakes! Try these in Python:\n",
    "\n",
    "1. In a print statement, what happens if you leave out one of the parentheses, or both?\n",
    "2. If you are trying to print a string, what happens if you leave out one of the quotation marks, or both?\n",
    "3. You can use a minus sign to make a negative number like `-2`. What happens if you put a plus sign before a number? What about `2++2`?\n",
    "4. In math notation, leading zeros are ok, as in `02`. What happens if you try this in Python?\n",
    "5. What happens if you have two values with no operator between them?\n",
    "\n",
    "\n"
   ]
  },
  {
   "cell_type": "code",
   "execution_count": null,
   "metadata": {},
   "outputs": [],
   "source": []
  },
  {
   "cell_type": "markdown",
   "metadata": {},
   "source": [
    "### ***Exercise 02***\n",
    "\n",
    "Use Python (in Jupyter notebook or REPL) to solve these problems:\n",
    "\n",
    "1. How many seconds are there in 42 minutes 42 seconds?\n",
    "2. How many miles are there in 10 kilometers? (Hint: 1 mile = 1.61 kilometers)\n",
    "3. If you run a 10 kilometer race in 42 minutes 42 seconds, what is your average pace (time per mile in minutes and seconds)? What is your average speed in miles per hour?"
   ]
  },
  {
   "cell_type": "code",
   "execution_count": 1,
   "metadata": {},
   "outputs": [
    {
     "data": {
      "text/plain": [
       "2562"
      ]
     },
     "execution_count": 1,
     "metadata": {},
     "output_type": "execute_result"
    }
   ],
   "source": [
    "42 * 60 + 42"
   ]
  },
  {
   "cell_type": "code",
   "execution_count": null,
   "metadata": {},
   "outputs": [],
   "source": []
  }
 ],
 "metadata": {
  "anaconda-cloud": {},
  "kernelspec": {
   "display_name": "Python [conda env:base] *",
   "language": "python",
   "name": "conda-base-py"
  },
  "language_info": {
   "codemirror_mode": {
    "name": "ipython",
    "version": 3
   },
   "file_extension": ".py",
   "mimetype": "text/x-python",
   "name": "python",
   "nbconvert_exporter": "python",
   "pygments_lexer": "ipython3",
   "version": "3.13.5"
  }
 },
 "nbformat": 4,
 "nbformat_minor": 4
}
