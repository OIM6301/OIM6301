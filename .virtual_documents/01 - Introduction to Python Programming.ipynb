


print('Hello, World!')


print(1 + 2 + 3)








1 + 1  # In Jupyter/REPL, the result displays automatically


# exit() - This would close the Python interpreter
# We don't need it in Jupyter notebooks!





print('Hello, Zhi')





39 + 41 + 33








print(39 + 41 + 33)





2025 - 1990  # Subtraction


15 * 3.2  # Multiplication


2 ** 10000  # 2 to the power of 6





15 / 3  # Returns 5.0, not 5











42 * 60 + 42



