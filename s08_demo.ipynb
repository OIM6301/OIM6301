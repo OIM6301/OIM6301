{
 "cells": [
  {
   "cell_type": "markdown",
   "id": "5f9a4315",
   "metadata": {},
   "source": [
    "# Session 08 Demo"
   ]
  },
  {
   "cell_type": "code",
   "execution_count": 2,
   "id": "f29e7886",
   "metadata": {},
   "outputs": [
    {
     "ename": "SyntaxError",
     "evalue": "unterminated string literal (detected at line 3) (3923081613.py, line 3)",
     "output_type": "error",
     "traceback": [
      "\u001b[1;36m  Cell \u001b[1;32mIn[2], line 3\u001b[1;36m\u001b[0m\n\u001b[1;33m    print('Hello)\u001b[0m\n\u001b[1;37m          ^\u001b[0m\n\u001b[1;31mSyntaxError\u001b[0m\u001b[1;31m:\u001b[0m unterminated string literal (detected at line 3)\n"
     ]
    }
   ],
   "source": [
    "# Review\n",
    "\n",
    "print('Hello)"
   ]
  },
  {
   "cell_type": "code",
   "execution_count": 5,
   "id": "3584b972",
   "metadata": {},
   "outputs": [
    {
     "name": "stdout",
     "output_type": "stream",
     "text": [
      "Hello,  2000\n"
     ]
    }
   ],
   "source": [
    "print('Hello, ', 2000)"
   ]
  },
  {
   "cell_type": "code",
   "execution_count": 6,
   "id": "85a09889",
   "metadata": {},
   "outputs": [
    {
     "name": "stdout",
     "output_type": "stream",
     "text": [
      "100\n"
     ]
    }
   ],
   "source": [
    "a = 100\n",
    "print(a)"
   ]
  },
  {
   "cell_type": "code",
   "execution_count": 7,
   "id": "42462bfa",
   "metadata": {},
   "outputs": [
    {
     "ename": "NameError",
     "evalue": "name 'b' is not defined",
     "output_type": "error",
     "traceback": [
      "\u001b[1;31m---------------------------------------------------------------------------\u001b[0m",
      "\u001b[1;31mNameError\u001b[0m                                 Traceback (most recent call last)",
      "Cell \u001b[1;32mIn[7], line 1\u001b[0m\n\u001b[1;32m----> 1\u001b[0m \u001b[38;5;28mprint\u001b[39m(b)\n",
      "\u001b[1;31mNameError\u001b[0m: name 'b' is not defined"
     ]
    }
   ],
   "source": [
    "print(b)"
   ]
  },
  {
   "cell_type": "code",
   "execution_count": 9,
   "id": "2edc035f",
   "metadata": {},
   "outputs": [
    {
     "name": "stdout",
     "output_type": "stream",
     "text": [
      "4\n"
     ]
    }
   ],
   "source": [
    "print(2 + +2)"
   ]
  },
  {
   "cell_type": "code",
   "execution_count": 10,
   "id": "64c14a0b",
   "metadata": {},
   "outputs": [
    {
     "name": "stdout",
     "output_type": "stream",
     "text": [
      "0\n"
     ]
    }
   ],
   "source": [
    "print(2 + -2)"
   ]
  },
  {
   "cell_type": "code",
   "execution_count": 11,
   "id": "76352d4c",
   "metadata": {},
   "outputs": [
    {
     "data": {
      "text/plain": [
       "4"
      ]
     },
     "execution_count": 11,
     "metadata": {},
     "output_type": "execute_result"
    }
   ],
   "source": [
    "2 + +2"
   ]
  },
  {
   "cell_type": "code",
   "execution_count": 12,
   "id": "fd905dda",
   "metadata": {},
   "outputs": [
    {
     "ename": "SyntaxError",
     "evalue": "leading zeros in decimal integer literals are not permitted; use an 0o prefix for octal integers (3422072347.py, line 1)",
     "output_type": "error",
     "traceback": [
      "\u001b[1;36m  Cell \u001b[1;32mIn[12], line 1\u001b[1;36m\u001b[0m\n\u001b[1;33m    2 + 02\u001b[0m\n\u001b[1;37m        ^\u001b[0m\n\u001b[1;31mSyntaxError\u001b[0m\u001b[1;31m:\u001b[0m leading zeros in decimal integer literals are not permitted; use an 0o prefix for octal integers\n"
     ]
    }
   ],
   "source": [
    "2 + 02"
   ]
  },
  {
   "cell_type": "code",
   "execution_count": null,
   "id": "1d31460e",
   "metadata": {},
   "outputs": [
    {
     "name": "stdout",
     "output_type": "stream",
     "text": [
      "1\n"
     ]
    }
   ],
   "source": [
    "print(13 % 4)  # modulo, "
   ]
  },
  {
   "cell_type": "code",
   "execution_count": 17,
   "id": "99b7cd3a",
   "metadata": {},
   "outputs": [
    {
     "name": "stdout",
     "output_type": "stream",
     "text": [
      "0\n"
     ]
    }
   ],
   "source": [
    "# how to check whether a number is an even number?\n",
    "\n",
    "n = 8\n",
    "print(n % 2)"
   ]
  },
  {
   "cell_type": "code",
   "execution_count": null,
   "id": "8633fce6",
   "metadata": {},
   "outputs": [
    {
     "name": "stdout",
     "output_type": "stream",
     "text": [
      "10\n",
      "<class 'str'>\n",
      "<class 'int'>\n",
      "0\n"
     ]
    }
   ],
   "source": [
    "n = input('Enter an integer: ')\n",
    "\n",
    "print(n)\n",
    "print(type(n))\n",
    "\n",
    "n = int(n)\n",
    "print(type(n))\n",
    "print(n % 2)"
   ]
  },
  {
   "cell_type": "code",
   "execution_count": null,
   "id": "acd0b783",
   "metadata": {},
   "outputs": [
    {
     "name": "stdout",
     "output_type": "stream",
     "text": [
      "It is an even number!\n"
     ]
    }
   ],
   "source": [
    "# check if n is a multiple of 100\n",
    "n = input('Enter an integer: ')\n",
    "\n",
    "n = int(n)\n",
    "\n",
    "if n % 10 == 0:\n",
    "    print('It is a multiple of 3!')\n",
    "else:\n",
    "    print('It is not!')"
   ]
  },
  {
   "cell_type": "markdown",
   "id": "0d9847c3",
   "metadata": {},
   "source": []
  },
  {
   "cell_type": "markdown",
   "id": "3d89f8cb",
   "metadata": {},
   "source": []
  }
 ],
 "metadata": {
  "kernelspec": {
   "display_name": "base",
   "language": "python",
   "name": "python3"
  },
  "language_info": {
   "codemirror_mode": {
    "name": "ipython",
    "version": 3
   },
   "file_extension": ".py",
   "mimetype": "text/x-python",
   "name": "python",
   "nbconvert_exporter": "python",
   "pygments_lexer": "ipython3",
   "version": "3.13.5"
  }
 },
 "nbformat": 4,
 "nbformat_minor": 5
}
