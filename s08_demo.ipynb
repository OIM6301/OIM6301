{
 "cells": [
  {
   "cell_type": "markdown",
   "id": "5f9a4315",
   "metadata": {},
   "source": [
    "# Session 08 Demo"
   ]
  },
  {
   "cell_type": "code",
   "execution_count": 2,
   "id": "f29e7886",
   "metadata": {},
   "outputs": [
    {
     "ename": "SyntaxError",
     "evalue": "unterminated string literal (detected at line 3) (3923081613.py, line 3)",
     "output_type": "error",
     "traceback": [
      "\u001b[1;36m  Cell \u001b[1;32mIn[2], line 3\u001b[1;36m\u001b[0m\n\u001b[1;33m    print('Hello)\u001b[0m\n\u001b[1;37m          ^\u001b[0m\n\u001b[1;31mSyntaxError\u001b[0m\u001b[1;31m:\u001b[0m unterminated string literal (detected at line 3)\n"
     ]
    }
   ],
   "source": [
    "# Review\n",
    "\n",
    "print('Hello)"
   ]
  },
  {
   "cell_type": "code",
   "execution_count": 5,
   "id": "3584b972",
   "metadata": {},
   "outputs": [
    {
     "name": "stdout",
     "output_type": "stream",
     "text": [
      "Hello,  2000\n"
     ]
    }
   ],
   "source": [
    "print('Hello, ', 2000)"
   ]
  },
  {
   "cell_type": "code",
   "execution_count": 6,
   "id": "85a09889",
   "metadata": {},
   "outputs": [
    {
     "name": "stdout",
     "output_type": "stream",
     "text": [
      "100\n"
     ]
    }
   ],
   "source": [
    "a = 100\n",
    "print(a)"
   ]
  },
  {
   "cell_type": "code",
   "execution_count": 7,
   "id": "42462bfa",
   "metadata": {},
   "outputs": [
    {
     "ename": "NameError",
     "evalue": "name 'b' is not defined",
     "output_type": "error",
     "traceback": [
      "\u001b[1;31m---------------------------------------------------------------------------\u001b[0m",
      "\u001b[1;31mNameError\u001b[0m                                 Traceback (most recent call last)",
      "Cell \u001b[1;32mIn[7], line 1\u001b[0m\n\u001b[1;32m----> 1\u001b[0m \u001b[38;5;28mprint\u001b[39m(b)\n",
      "\u001b[1;31mNameError\u001b[0m: name 'b' is not defined"
     ]
    }
   ],
   "source": [
    "print(b)"
   ]
  },
  {
   "cell_type": "code",
   "execution_count": 9,
   "id": "2edc035f",
   "metadata": {},
   "outputs": [
    {
     "name": "stdout",
     "output_type": "stream",
     "text": [
      "4\n"
     ]
    }
   ],
   "source": [
    "print(2 + +2)"
   ]
  },
  {
   "cell_type": "code",
   "execution_count": 10,
   "id": "64c14a0b",
   "metadata": {},
   "outputs": [
    {
     "name": "stdout",
     "output_type": "stream",
     "text": [
      "0\n"
     ]
    }
   ],
   "source": [
    "print(2 + -2)"
   ]
  },
  {
   "cell_type": "code",
   "execution_count": 11,
   "id": "76352d4c",
   "metadata": {},
   "outputs": [
    {
     "data": {
      "text/plain": [
       "4"
      ]
     },
     "execution_count": 11,
     "metadata": {},
     "output_type": "execute_result"
    }
   ],
   "source": [
    "2 + +2"
   ]
  },
  {
   "cell_type": "code",
   "execution_count": 12,
   "id": "fd905dda",
   "metadata": {},
   "outputs": [
    {
     "ename": "SyntaxError",
     "evalue": "leading zeros in decimal integer literals are not permitted; use an 0o prefix for octal integers (3422072347.py, line 1)",
     "output_type": "error",
     "traceback": [
      "\u001b[1;36m  Cell \u001b[1;32mIn[12], line 1\u001b[1;36m\u001b[0m\n\u001b[1;33m    2 + 02\u001b[0m\n\u001b[1;37m        ^\u001b[0m\n\u001b[1;31mSyntaxError\u001b[0m\u001b[1;31m:\u001b[0m leading zeros in decimal integer literals are not permitted; use an 0o prefix for octal integers\n"
     ]
    }
   ],
   "source": [
    "2 + 02"
   ]
  },
  {
   "cell_type": "code",
   "execution_count": null,
   "id": "1d31460e",
   "metadata": {},
   "outputs": [
    {
     "name": "stdout",
     "output_type": "stream",
     "text": [
      "1\n"
     ]
    }
   ],
   "source": [
    "print(13 % 4)  # modulo, "
   ]
  },
  {
   "cell_type": "code",
   "execution_count": 17,
   "id": "99b7cd3a",
   "metadata": {},
   "outputs": [
    {
     "name": "stdout",
     "output_type": "stream",
     "text": [
      "0\n"
     ]
    }
   ],
   "source": [
    "# how to check whether a number is an even number?\n",
    "\n",
    "n = 8\n",
    "print(n % 2)"
   ]
  },
  {
   "cell_type": "code",
   "execution_count": null,
   "id": "8633fce6",
   "metadata": {},
   "outputs": [
    {
     "name": "stdout",
     "output_type": "stream",
     "text": [
      "10\n",
      "<class 'str'>\n",
      "<class 'int'>\n",
      "0\n"
     ]
    }
   ],
   "source": [
    "n = input('Enter an integer: ')\n",
    "\n",
    "print(n)\n",
    "print(type(n))\n",
    "\n",
    "n = int(n)\n",
    "print(type(n))\n",
    "print(n % 2)"
   ]
  },
  {
   "cell_type": "code",
   "execution_count": 59,
   "id": "acd0b783",
   "metadata": {},
   "outputs": [
    {
     "ename": "ValueError",
     "evalue": "invalid literal for int() with base 10: ''",
     "output_type": "error",
     "traceback": [
      "\u001b[1;31m---------------------------------------------------------------------------\u001b[0m",
      "\u001b[1;31mValueError\u001b[0m                                Traceback (most recent call last)",
      "Cell \u001b[1;32mIn[59], line 4\u001b[0m\n\u001b[0;32m      1\u001b[0m \u001b[38;5;66;03m# check even or odd\u001b[39;00m\n\u001b[0;32m      2\u001b[0m n \u001b[38;5;241m=\u001b[39m \u001b[38;5;28minput\u001b[39m(\u001b[38;5;124m'\u001b[39m\u001b[38;5;124mEnter an integer: \u001b[39m\u001b[38;5;124m'\u001b[39m)\n\u001b[1;32m----> 4\u001b[0m n \u001b[38;5;241m=\u001b[39m \u001b[38;5;28mint\u001b[39m(n)\n\u001b[0;32m      6\u001b[0m \u001b[38;5;28;01mif\u001b[39;00m n \u001b[38;5;241m%\u001b[39m \u001b[38;5;241m2\u001b[39m \u001b[38;5;241m==\u001b[39m \u001b[38;5;241m0\u001b[39m:\n\u001b[0;32m      7\u001b[0m     \u001b[38;5;28mprint\u001b[39m(\u001b[38;5;124m'\u001b[39m\u001b[38;5;124mIt is an even number!\u001b[39m\u001b[38;5;124m'\u001b[39m)\n",
      "\u001b[1;31mValueError\u001b[0m: invalid literal for int() with base 10: ''"
     ]
    }
   ],
   "source": [
    "# check even or odd\n",
    "n = input('Enter an integer: ')\n",
    "\n",
    "n = int(n)\n",
    "\n",
    "if n % 2 == 0:\n",
    "    print('It is an even number!')\n",
    "else:\n",
    "    print('It is an odd number!')"
   ]
  },
  {
   "cell_type": "code",
   "execution_count": 61,
   "id": "d7514594",
   "metadata": {},
   "outputs": [
    {
     "name": "stdout",
     "output_type": "stream",
     "text": [
      "True\n",
      "<class 'bool'>\n"
     ]
    }
   ],
   "source": [
    "condition = 10 % 2 == 0\n",
    "print(condition)\n",
    "print(type(condition))"
   ]
  },
  {
   "cell_type": "markdown",
   "id": "4df091d4",
   "metadata": {},
   "source": [
    "## Chapter 2: Variables, expressions, and Statements"
   ]
  },
  {
   "cell_type": "code",
   "execution_count": 27,
   "id": "29d997e8",
   "metadata": {},
   "outputs": [
    {
     "name": "stdout",
     "output_type": "stream",
     "text": [
      "Hey Jude don't make it bad\n"
     ]
    }
   ],
   "source": [
    "print('Hey Jude', 'don\\'t make it bad')"
   ]
  },
  {
   "cell_type": "code",
   "execution_count": 28,
   "id": "fa4229f8",
   "metadata": {},
   "outputs": [
    {
     "name": "stdout",
     "output_type": "stream",
     "text": [
      "Hey Jude don't make it bad\n"
     ]
    }
   ],
   "source": [
    "print('Hey Jude', \"don't make it bad\")"
   ]
  },
  {
   "cell_type": "code",
   "execution_count": 29,
   "id": "2dc13cd5",
   "metadata": {},
   "outputs": [
    {
     "name": "stdout",
     "output_type": "stream",
     "text": [
      "Hello, Santiago\n"
     ]
    }
   ],
   "source": [
    "name = input(\"What is your name?\")\n",
    "\n",
    "print('Hello, ' + name)"
   ]
  },
  {
   "cell_type": "code",
   "execution_count": 30,
   "id": "bba1d34a",
   "metadata": {},
   "outputs": [],
   "source": [
    "price_before_tax = 100"
   ]
  },
  {
   "cell_type": "code",
   "execution_count": 32,
   "id": "4aa9298e",
   "metadata": {},
   "outputs": [
    {
     "ename": "SyntaxError",
     "evalue": "invalid syntax (2771207039.py, line 1)",
     "output_type": "error",
     "traceback": [
      "\u001b[1;36m  Cell \u001b[1;32mIn[32], line 1\u001b[1;36m\u001b[0m\n\u001b[1;33m    class = \"OIM6301\"\u001b[0m\n\u001b[1;37m          ^\u001b[0m\n\u001b[1;31mSyntaxError\u001b[0m\u001b[1;31m:\u001b[0m invalid syntax\n"
     ]
    }
   ],
   "source": [
    "class = \"OIM6301\""
   ]
  },
  {
   "cell_type": "code",
   "execution_count": 34,
   "id": "1a3fa6f3",
   "metadata": {},
   "outputs": [],
   "source": [
    "n = 42"
   ]
  },
  {
   "cell_type": "code",
   "execution_count": 35,
   "id": "6ee534b3",
   "metadata": {},
   "outputs": [
    {
     "data": {
      "text/plain": [
       "52"
      ]
     },
     "execution_count": 35,
     "metadata": {},
     "output_type": "execute_result"
    }
   ],
   "source": [
    "n + 10  # This is an expression, which has a value"
   ]
  },
  {
   "cell_type": "code",
   "execution_count": 36,
   "id": "cfab5750",
   "metadata": {},
   "outputs": [
    {
     "data": {
      "text/plain": [
       "42"
      ]
     },
     "execution_count": 36,
     "metadata": {},
     "output_type": "execute_result"
    }
   ],
   "source": [
    "n"
   ]
  },
  {
   "cell_type": "code",
   "execution_count": 37,
   "id": "236fdfd7",
   "metadata": {},
   "outputs": [
    {
     "name": "stdout",
     "output_type": "stream",
     "text": [
      "123\n",
      "ABC\n"
     ]
    }
   ],
   "source": [
    "# Python is a dynamically typed language\n",
    "\n",
    "a = 123 # a is an integer\n",
    "print(a)\n",
    "a = 'ABC' # a becomes a string\n",
    "print(a)"
   ]
  },
  {
   "cell_type": "code",
   "execution_count": 38,
   "id": "799708fc",
   "metadata": {},
   "outputs": [
    {
     "name": "stdout",
     "output_type": "stream",
     "text": [
      "12\n"
     ]
    }
   ],
   "source": [
    "x = 10\n",
    "x = x + 2\n",
    "print(x)"
   ]
  },
  {
   "cell_type": "code",
   "execution_count": null,
   "id": "5604b951",
   "metadata": {},
   "outputs": [
    {
     "name": "stdout",
     "output_type": "stream",
     "text": [
      "XYZ\n"
     ]
    }
   ],
   "source": [
    "a = 'ABC'\n",
    "balance = a\n",
    "a = 'XYZ'\n",
    "print(a)"
   ]
  },
  {
   "cell_type": "code",
   "execution_count": null,
   "id": "e1867f93",
   "metadata": {},
   "outputs": [
    {
     "name": "stdout",
     "output_type": "stream",
     "text": [
      "ABC\n"
     ]
    }
   ],
   "source": [
    "print(balance)"
   ]
  },
  {
   "cell_type": "code",
   "execution_count": null,
   "id": "f344531f",
   "metadata": {},
   "outputs": [
    {
     "name": "stdout",
     "output_type": "stream",
     "text": [
      "105\n",
      "95\n",
      "500\n",
      "20.0\n"
     ]
    }
   ],
   "source": [
    "# Arithmatic operations\n",
    "\n",
    "a = 100\n",
    "balance = 5\n",
    "\n",
    "print(a + balance)\n",
    "print(a - balance)\n",
    "print(a * balance)\n",
    "print(a / 5)"
   ]
  },
  {
   "cell_type": "code",
   "execution_count": null,
   "id": "2df64f5a",
   "metadata": {},
   "outputs": [
    {
     "name": "stdout",
     "output_type": "stream",
     "text": [
      "Hello, world\n"
     ]
    }
   ],
   "source": [
    "a = 'Hello, '\n",
    "balance = 'world'\n",
    "\n",
    "print(a + balance)"
   ]
  },
  {
   "cell_type": "code",
   "execution_count": 46,
   "id": "d043b6b4",
   "metadata": {},
   "outputs": [
    {
     "data": {
      "text/plain": [
       "'Hello, Hello, Hello, '"
      ]
     },
     "execution_count": 46,
     "metadata": {},
     "output_type": "execute_result"
    }
   ],
   "source": [
    "a * 3"
   ]
  },
  {
   "cell_type": "code",
   "execution_count": 47,
   "id": "15077916",
   "metadata": {},
   "outputs": [
    {
     "data": {
      "text/plain": [
       "'2025'"
      ]
     },
     "execution_count": 47,
     "metadata": {},
     "output_type": "execute_result"
    }
   ],
   "source": [
    "'20' + '25'"
   ]
  },
  {
   "cell_type": "code",
   "execution_count": 48,
   "id": "5daf53cd",
   "metadata": {},
   "outputs": [
    {
     "ename": "TypeError",
     "evalue": "can only concatenate str (not \"int\") to str",
     "output_type": "error",
     "traceback": [
      "\u001b[1;31m---------------------------------------------------------------------------\u001b[0m",
      "\u001b[1;31mTypeError\u001b[0m                                 Traceback (most recent call last)",
      "Cell \u001b[1;32mIn[48], line 1\u001b[0m\n\u001b[1;32m----> 1\u001b[0m \u001b[38;5;124m'\u001b[39m\u001b[38;5;124m20\u001b[39m\u001b[38;5;124m'\u001b[39m \u001b[38;5;241m+\u001b[39m \u001b[38;5;241m25\u001b[39m\n",
      "\u001b[1;31mTypeError\u001b[0m: can only concatenate str (not \"int\") to str"
     ]
    }
   ],
   "source": [
    "'20' + 25"
   ]
  },
  {
   "cell_type": "code",
   "execution_count": 49,
   "id": "3a59b875",
   "metadata": {},
   "outputs": [
    {
     "ename": "TypeError",
     "evalue": "unsupported operand type(s) for -: 'str' and 'str'",
     "output_type": "error",
     "traceback": [
      "\u001b[1;31m---------------------------------------------------------------------------\u001b[0m",
      "\u001b[1;31mTypeError\u001b[0m                                 Traceback (most recent call last)",
      "Cell \u001b[1;32mIn[49], line 1\u001b[0m\n\u001b[1;32m----> 1\u001b[0m \u001b[38;5;124m'\u001b[39m\u001b[38;5;124m25\u001b[39m\u001b[38;5;124m'\u001b[39m \u001b[38;5;241m-\u001b[39m \u001b[38;5;124m'\u001b[39m\u001b[38;5;124m20\u001b[39m\u001b[38;5;124m'\u001b[39m\n",
      "\u001b[1;31mTypeError\u001b[0m: unsupported operand type(s) for -: 'str' and 'str'"
     ]
    }
   ],
   "source": [
    "'25' - '20'"
   ]
  },
  {
   "cell_type": "code",
   "execution_count": 50,
   "id": "bf784883",
   "metadata": {},
   "outputs": [
    {
     "name": "stdout",
     "output_type": "stream",
     "text": [
      "Pi equals 3.14159.\n",
      "Pi equals  3.14159.\n",
      "Pi equals     3.14.\n"
     ]
    }
   ],
   "source": [
    "pi = 3.1415926\n",
    "\n",
    "print(f'Pi equals {pi:.5f}.')\n",
    "print(f'Pi equals {pi:8.5f}.')\n",
    "print(f'Pi equals {pi:8.2f}.')"
   ]
  },
  {
   "cell_type": "code",
   "execution_count": 51,
   "id": "75ce998c",
   "metadata": {},
   "outputs": [],
   "source": [
    "monthly_balances = [2000.65, 20454.13, 45646.58, 100000]"
   ]
  },
  {
   "cell_type": "code",
   "execution_count": null,
   "id": "ebaf36d6",
   "metadata": {},
   "outputs": [
    {
     "name": "stdout",
     "output_type": "stream",
     "text": [
      "   Balance\n",
      "$  2000.65\n",
      "$ 20454.13\n",
      "$ 45646.58\n",
      "$100000.00\n"
     ]
    }
   ],
   "source": [
    "print('   Balance')\n",
    "for balance in monthly_balances:\n",
    "    print(f'${balance:9.2f}')"
   ]
  },
  {
   "cell_type": "code",
   "execution_count": null,
   "id": "0a3430d7",
   "metadata": {},
   "outputs": [],
   "source": []
  }
 ],
 "metadata": {
  "kernelspec": {
   "display_name": "base",
   "language": "python",
   "name": "python3"
  },
  "language_info": {
   "codemirror_mode": {
    "name": "ipython",
    "version": 3
   },
   "file_extension": ".py",
   "mimetype": "text/x-python",
   "name": "python",
   "nbconvert_exporter": "python",
   "pygments_lexer": "ipython3",
   "version": "3.13.5"
  }
 },
 "nbformat": 4,
 "nbformat_minor": 5
}
